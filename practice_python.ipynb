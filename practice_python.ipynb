{
  "nbformat": 4,
  "nbformat_minor": 0,
  "metadata": {
    "colab": {
      "name": "practice python.ipynb",
      "provenance": [],
      "collapsed_sections": [],
      "authorship_tag": "ABX9TyMoSQInZdh29de7qZKen+GA",
      "include_colab_link": true
    },
    "kernelspec": {
      "name": "python3",
      "display_name": "Python 3"
    },
    "language_info": {
      "name": "python"
    }
  },
  "cells": [
    {
      "cell_type": "markdown",
      "metadata": {
        "id": "view-in-github",
        "colab_type": "text"
      },
      "source": [
        "<a href=\"https://colab.research.google.com/github/Nani81438/python/blob/main/practice_python.ipynb\" target=\"_parent\"><img src=\"https://colab.research.google.com/assets/colab-badge.svg\" alt=\"Open In Colab\"/></a>"
      ]
    },
    {
      "cell_type": "markdown",
      "source": [
        "**VARIABLES**"
      ],
      "metadata": {
        "id": "_Fqb29q9tLX3"
      }
    },
    {
      "cell_type": "code",
      "execution_count": null,
      "metadata": {
        "id": "A0fUXfBVFTTJ",
        "colab": {
          "base_uri": "https://localhost:8080/"
        },
        "outputId": "5629a9d7-0a06-4659-c588-f01b1c94f632"
      },
      "outputs": [
        {
          "output_type": "stream",
          "name": "stdout",
          "text": [
            "<class 'int'>\n",
            "<class 'str'>\n",
            "<class 'float'>\n",
            "<class 'bool'>\n",
            "<class 'complex'>\n"
          ]
        }
      ],
      "source": [
        "#variable exercises\n",
        "x = 5\n",
        "y = \"John\"\n",
        "c = 5.25\n",
        "d = True\n",
        "e = 2+5j\n",
        "print(type(x))\n",
        "print(type(y))\n",
        "print(type(c))\n",
        "print(type(d))\n",
        "print(type(e))"
      ]
    },
    {
      "cell_type": "code",
      "source": [
        "#legal variables\n",
        "myvar = \"John\"\n",
        "my_var = \"John\"\n",
        "_my_var = \"John\"\n",
        "myVar = \"John\"\n",
        "MYVAR = \"John\"\n",
        "myvar2 = \"John\""
      ],
      "metadata": {
        "id": "hSgLme7gsPy5"
      },
      "execution_count": null,
      "outputs": []
    },
    {
      "cell_type": "code",
      "source": [
        "#assigning multiple values to multiple variables\n",
        "x, y, z = \"Orange\", \"Banana\", \"Cherry\"\n",
        "print(x)\n",
        "print(y)\n",
        "print(z)"
      ],
      "metadata": {
        "colab": {
          "base_uri": "https://localhost:8080/"
        },
        "id": "tYHNCbHttdlC",
        "outputId": "0f5216c0-fec2-408d-c2e3-6ab98d64948a"
      },
      "execution_count": null,
      "outputs": [
        {
          "output_type": "stream",
          "name": "stdout",
          "text": [
            "Orange\n",
            "Banana\n",
            "Cherry\n"
          ]
        }
      ]
    },
    {
      "cell_type": "code",
      "source": [
        "#assigning single value to multiple variables\n",
        "x = y = z = \"Orange\"\n",
        "print(x)\n",
        "print(y)\n",
        "print(z)"
      ],
      "metadata": {
        "colab": {
          "base_uri": "https://localhost:8080/"
        },
        "id": "VqgURJ1otdhW",
        "outputId": "5ad7c547-4f64-4d73-dd1d-79c315e787c9"
      },
      "execution_count": null,
      "outputs": [
        {
          "output_type": "stream",
          "name": "stdout",
          "text": [
            "Orange\n",
            "Orange\n",
            "Orange\n"
          ]
        }
      ]
    },
    {
      "cell_type": "code",
      "source": [
        "#unpacking\n",
        "fruits = [\"apple\", \"banana\", \"cherry\"]\n",
        "x, y, z = fruits\n",
        "print(x)\n",
        "print(y)\n",
        "print(z)"
      ],
      "metadata": {
        "colab": {
          "base_uri": "https://localhost:8080/"
        },
        "id": "-bnHrTXKtde3",
        "outputId": "df2e6068-bd44-4fa1-8c72-6256adcdb812"
      },
      "execution_count": null,
      "outputs": [
        {
          "output_type": "stream",
          "name": "stdout",
          "text": [
            "apple\n",
            "banana\n",
            "cherry\n"
          ]
        }
      ]
    },
    {
      "cell_type": "code",
      "source": [
        "#output variables\n",
        "x = \"Python\"\n",
        "y = \"is\"\n",
        "z = \"awesome\"\n",
        "print(x, y, z)\n",
        "\n",
        "x = 5\n",
        "y = 10\n",
        "print(x + y)"
      ],
      "metadata": {
        "colab": {
          "base_uri": "https://localhost:8080/"
        },
        "id": "txT4i8wFtdcZ",
        "outputId": "a69b5aac-19ce-47b7-8fb4-0f29b2947c58"
      },
      "execution_count": null,
      "outputs": [
        {
          "output_type": "stream",
          "name": "stdout",
          "text": [
            "Python is awesome\n",
            "15\n"
          ]
        }
      ]
    },
    {
      "cell_type": "code",
      "source": [
        "#global variables - we can use in entire function\n",
        "x = \"awesome\"\n",
        "\n",
        "def myfunc():\n",
        "  print(\"Python is \" + x)\n",
        "\n",
        "myfunc()"
      ],
      "metadata": {
        "colab": {
          "base_uri": "https://localhost:8080/"
        },
        "id": "K9Biq0ZptdY6",
        "outputId": "fd87a58c-1789-4b38-8b83-e4692535f7df"
      },
      "execution_count": null,
      "outputs": [
        {
          "output_type": "stream",
          "name": "stdout",
          "text": [
            "Python is awesome\n"
          ]
        }
      ]
    },
    {
      "cell_type": "code",
      "source": [
        "x = \"awesome\" # gloabal variable\n",
        "\n",
        "def myfunc():\n",
        "  x = \"fantastic\"    # local variable\n",
        "  print(\"Python is \" + x)\n",
        "\n",
        "myfunc()\n",
        "\n",
        "print(\"Python is \" + x)"
      ],
      "metadata": {
        "colab": {
          "base_uri": "https://localhost:8080/"
        },
        "id": "fEI2oAtYtdW8",
        "outputId": "d3dd716e-8e95-4311-fb81-122bb1a53e72"
      },
      "execution_count": null,
      "outputs": [
        {
          "output_type": "stream",
          "name": "stdout",
          "text": [
            "Python is fantastic\n",
            "Python is awesome\n"
          ]
        }
      ]
    },
    {
      "cell_type": "markdown",
      "source": [
        "**DATA** **TYPES**"
      ],
      "metadata": {
        "id": "mi4c4l0du2dG"
      }
    },
    {
      "cell_type": "markdown",
      "source": [
        "Built-in Data Types\n",
        "In programming, data type is an important concept.\n",
        "\n",
        "Variables can store data of different types, and different types can do different things.\n",
        "\n",
        "Python has the following data types built-in by default, in these categories:\n",
        "\n",
        "Text Type:\tstr\n",
        "\n",
        "Numeric Types:\tint, float, complex\n",
        "\n",
        "Sequence Types:\tlist, tuple, range\n",
        "\n",
        "Mapping Type:\tdict\n",
        "\n",
        "Set Types:\tset, frozenset\n",
        "\n",
        "Boolean Type:\tbool\n",
        "\n",
        "Binary Types:\tbytes, bytearray, memoryview\n",
        "\n",
        "None Type:\tNoneType"
      ],
      "metadata": {
        "id": "racMoKM5u7i9"
      }
    },
    {
      "cell_type": "code",
      "source": [
        "a = \"Hello World\"\t\n",
        "print (\"a is a: \",type(a))\n",
        "b = 20\n",
        "print (\"b is a: \",type(b))\t\n",
        "c = 20.5\n",
        "print (\"c is a: \",type(c))\t\t\n",
        "d = 1j\t\n",
        "print (\"d is a: \",type(d))\t\n",
        "e = [\"apple\", \"banana\", \"cherry\"]\n",
        "print (\"e is a: \",type(e))\t\n",
        "f = (\"apple\", \"banana\", \"cherry\")\t\n",
        "print (\"f is a: \",type(f))\n",
        "g = range(6)\t\n",
        "print (\"h is a: \",type(g))\n",
        "h = {\"name\" : \"John\", \"age\" : 36}\t\n",
        "print (\"h is a: \",type(h))\t\n",
        "i = {\"apple\", \"banana\", \"cherry\"}\n",
        "print (\"i is a: \",type(i))\t\n",
        "j = frozenset({\"apple\", \"banana\", \"cherry\"})\t\n",
        "print (\"j is a: \",type(j))\n",
        "k = True\n",
        "print (\"k is a: \",type(k))\n",
        "l = b\"Hello\"\t\n",
        "print (\"l is a: \",type(l))\n",
        "m = bytearray(5)\n",
        "print (\"m is a: \",type(m))\n",
        "n = memoryview(bytes(5))\n",
        "print (\"n is a: \",type(n))\t\n",
        "o = None\n",
        "print (\"o is a: \",type(o))"
      ],
      "metadata": {
        "colab": {
          "base_uri": "https://localhost:8080/"
        },
        "id": "Z5hDQJPFtdVK",
        "outputId": "e2f1d2e4-681b-4616-bf0b-3558ed6ffa43"
      },
      "execution_count": null,
      "outputs": [
        {
          "output_type": "stream",
          "name": "stdout",
          "text": [
            "a is a:  <class 'str'>\n",
            "b is a:  <class 'int'>\n",
            "c is a:  <class 'float'>\n",
            "d is a:  <class 'complex'>\n",
            "e is a:  <class 'list'>\n",
            "f is a:  <class 'tuple'>\n",
            "h is a:  <class 'range'>\n",
            "h is a:  <class 'dict'>\n",
            "i is a:  <class 'set'>\n",
            "j is a:  <class 'frozenset'>\n",
            "k is a:  <class 'bool'>\n",
            "l is a:  <class 'bytes'>\n",
            "m is a:  <class 'bytearray'>\n",
            "n is a:  <class 'memoryview'>\n",
            "0 is a:  <class 'NoneType'>\n"
          ]
        }
      ]
    },
    {
      "cell_type": "markdown",
      "source": [
        "**STRINGS**"
      ],
      "metadata": {
        "id": "vcSMzGeWx8j-"
      }
    },
    {
      "cell_type": "code",
      "source": [
        "#strings\n",
        "a = \"Hello, World!\" # indexing\n",
        "print(a[1])"
      ],
      "metadata": {
        "colab": {
          "base_uri": "https://localhost:8080/"
        },
        "id": "0HLk28UEtdSR",
        "outputId": "b670da11-768d-4255-9aa2-0964fdfbf36b"
      },
      "execution_count": null,
      "outputs": [
        {
          "output_type": "stream",
          "name": "stdout",
          "text": [
            "e\n"
          ]
        }
      ]
    },
    {
      "cell_type": "code",
      "source": [
        "#looping through a string\n",
        "for x in \"prasanna \":\n",
        "  print(x)"
      ],
      "metadata": {
        "colab": {
          "base_uri": "https://localhost:8080/"
        },
        "id": "FfxpVHFStdPX",
        "outputId": "c5c7b354-59c9-4833-bf8f-33715df5c471"
      },
      "execution_count": null,
      "outputs": [
        {
          "output_type": "stream",
          "name": "stdout",
          "text": [
            "p\n",
            "r\n",
            "a\n",
            "s\n",
            "a\n",
            "n\n",
            "n\n",
            "a\n",
            " \n"
          ]
        }
      ]
    },
    {
      "cell_type": "code",
      "source": [
        "# length of string\n",
        "a = \"Thanneeru Ganga Prasanna Kumar\"\n",
        "print(len(a))"
      ],
      "metadata": {
        "colab": {
          "base_uri": "https://localhost:8080/"
        },
        "id": "QV5UEIlAtdNS",
        "outputId": "b9700f1a-dd77-438b-b701-d0bd42f2ef64"
      },
      "execution_count": null,
      "outputs": [
        {
          "output_type": "stream",
          "name": "stdout",
          "text": [
            "30\n"
          ]
        }
      ]
    },
    {
      "cell_type": "code",
      "source": [
        "#checking word in a string\n",
        "txt = \"The best things in life are free!\"\n",
        "print(\"free\" in txt)\n",
        "\n",
        "txt = \"The best things in life are free!\"\n",
        "print(\"expensive\" not in txt)"
      ],
      "metadata": {
        "colab": {
          "base_uri": "https://localhost:8080/"
        },
        "id": "NZeW-WnJtdER",
        "outputId": "05ed1b3f-063d-4c5b-9318-085e6091fc84"
      },
      "execution_count": null,
      "outputs": [
        {
          "output_type": "stream",
          "name": "stdout",
          "text": [
            "True\n",
            "True\n"
          ]
        }
      ]
    },
    {
      "cell_type": "code",
      "source": [
        "#slicing\n",
        "b = \"Thanneeru Ganga Prasanna Kumar\"\n",
        "print(b[2:30:5]) # start,stop,step\n",
        "print(b[:5]) # upto 5 from starting\n",
        "print(b[2:]) #from 2 to last"
      ],
      "metadata": {
        "colab": {
          "base_uri": "https://localhost:8080/"
        },
        "id": "gwbbP3OPtcz1",
        "outputId": "f3868759-a6da-4f23-e453-c5c12e2a09e6"
      },
      "execution_count": null,
      "outputs": [
        {
          "output_type": "stream",
          "name": "stdout",
          "text": [
            "arnrnm\n",
            "Thann\n",
            "anneeru Ganga Prasanna Kumar\n"
          ]
        }
      ]
    },
    {
      "cell_type": "code",
      "source": [
        "#string methods\n",
        "b = \"Thanneeru Ganga Prasanna Kumar hfhvh     4645  \"\n",
        "b.capitalize()      # \tConverts the first character to upper case\n",
        "b.casefold()        # \tConverts string into lower case\n",
        "#b.center(\"Thanneeru Ganga Prasanna Kumar hfhvh     4645  \")          # \tReturns a centered string\n",
        "b.count('g')           # \tReturns the number of times a specified value occurs in a string\n",
        "b.encode()          # \tReturns an encoded version of the string\n",
        "b.endswith('5')        # Returns true if the string ends with the specified value\n",
        "b.expandtabs()      #Sets the tab size of the string\n",
        "b.find('g')            # \tSearches the string for a specified value and returns the position of where it was found\n",
        "b.format()          #Formats specified values in a string\n",
        "b.format_map('a')      # \tFormats specified values in a string\n",
        "b.index('h')           # Searches the string for a specified value and returns the position of where it was found\n",
        "b.isalnum()         # \tReturns True if all characters in the string are alphanumeric\n",
        "b.isalpha()         # Returns True if all characters in the string are in the alphabet\n",
        "b.isascii()         # \tReturns True if all characters in the string are ascii characters\n",
        "b.isdecimal()       #Returns True if all characters in the string are decimals\n",
        "b.isdigit()         #\tReturns True if all characters in the string are digits\n",
        "b.isidentifier()    #\tReturns True if the string is an identifier\n",
        "b.islower()         #\tReturns True if all characters in the string are lower case\n",
        "b.isnumeric()         #\tReturns True if all characters in the string are numeric\n",
        "b.isprintable()      #\tReturns True if all characters in the string are printable\n",
        "b.isspace()          #\tReturns True if all characters in the string are whitespaces\n",
        "b.istitle()          #Returns True if the string follows the rules of a title\n",
        "b.isupper()          #Returns True if all characters in the string are upper case\n",
        "b.join('k')            #\tConverts the elements of an iterable into a string\n",
        "#b.ljust('g')           #Returns a left justified version of the string\n",
        "b.lower()           #Converts a string into lower case\n",
        "b.lstrip()          #\tReturns a left trim version of the string\n",
        "#b.maketrans('j':'h')        #\tReturns a translation table to be used in translations\n",
        "b.partition('g')       #\tReturns a tuple where the string is parted into three parts\n",
        "b.replace(\"g\",\"G\")          #\tReturns a string where a specified value is replaced with a specified value\n",
        "b.rindex(\"g\")         #Searches the string for a specified value and returns the last position of where it was found\n",
        "#b.rjust(\"h\")          #\tReturns a right justified version of the string\n",
        "b.rfind(\"h\")           #\tSearches the string for a specified value and returns the last position of where it was found\n",
        "b.rpartition(\"h\")     #\tReturns a tuple where the string is parted into three parts\n",
        "b.rsplit()         #\tSplits the string at the specified separator, and returns a list\n",
        "b.rstrip()         #Returns a right trim version of the string\n",
        "b.split()          #\tSplits the string at the specified separator, and returns a list\n",
        "b.splitlines()      #Splits the string at line breaks and returns a list\n",
        "b.startswith(\"g\")   #Returns true if the string starts with the specified value\n",
        "b.strip()        #\tReturns a trimmed version of the string\n",
        "b.swapcase()     #Swaps cases, lower case becomes upper case and vice versa\n",
        "b.title()       #\tConverts the first character of each word to upper case\n",
        "b.translate(\"h\") \t#Returns a translated string\n",
        "b.upper() #\tConverts a string into upper case\n",
        "#b.zfill(\"j\") #Fills the string with a specified number of 0 values at the beginning\n",
        "\n",
        "\n"
      ],
      "metadata": {
        "colab": {
          "base_uri": "https://localhost:8080/",
          "height": 35
        },
        "id": "rlXGPAho1GL2",
        "outputId": "9a9f03d1-92a7-490e-b100-91b29f77c25d"
      },
      "execution_count": null,
      "outputs": [
        {
          "output_type": "execute_result",
          "data": {
            "text/plain": [
              "'THANNEERU GANGA PRASANNA KUMAR HFHVH     4645  '"
            ],
            "application/vnd.google.colaboratory.intrinsic+json": {
              "type": "string"
            }
          },
          "metadata": {},
          "execution_count": 52
        }
      ]
    },
    {
      "cell_type": "markdown",
      "source": [
        "Keywords:\n",
        "\n",
        "Python has a set of keywords that are reserved words that cannot be used as variable names, function names, or any other identifiers:\n",
        "\n",
        "Keyword \tDescription\n",
        "\n",
        "and\t        A logical operator\n",
        "\n",
        "as      \tTo create an alias\n",
        "\n",
        "assert  \tFor debugging\n",
        "\n",
        "break   \tTo break out of a loop\n",
        "\n",
        "class   \tTo define a class\n",
        "\n",
        "continue\tTo continue to the next iteration of a loop\n",
        "\n",
        "def\t        To define a function\n",
        "\n",
        "del     \tTo delete an object\n",
        "\n",
        "elif    \tUsed in conditional statements, same as else if\n",
        "\n",
        "else    \tUsed in conditional statements\n",
        "\n",
        "\n",
        "except  \tUsed with exceptions, what to do when an exception occurs\n",
        "\n",
        "False   \tBoolean value, result of comparison operations\n",
        "\n",
        "finally\t    Used with exceptions, a block of code that will be executed no \n",
        "\n",
        "matter if there is an exception or not\n",
        "\n",
        "for     \tTo create a for loop\n",
        "\n",
        "from    \tTo import specific parts of a module\n",
        "\n",
        "global  \tTo declare a global variable\n",
        "\n",
        "if      \tTo make a conditional statement\n",
        "\n",
        "import  \tTo import a module\n",
        "\n",
        "in      \tTo check if a value is present in a list, tuple, etc.\n",
        "\n",
        "is      \tTo test if two variables are equal\n",
        "\n",
        "lambda  \tTo create an anonymous function\n",
        "\n",
        "None    \tRepresents a null value\n",
        "\n",
        "nonlocal\tTo declare a non-local variable\n",
        "\n",
        "not\t        A logical operator\n",
        "\n",
        "or      \tA logical operator\n",
        "\n",
        "pass    \tA null statement, a statement that will do nothing\n",
        "\n",
        "raise   \tTo raise an exception\n",
        "\n",
        "return  \tTo exit a function and return a value\n",
        "\n",
        "True    \tBoolean value, result of comparison operations\n",
        "\n",
        "try     \tTo make a try...except statement\n",
        "\n",
        "while   \tTo create a while loop\n",
        "\n",
        "with    \tUsed to simplify exception handling\n",
        "\n",
        "yield   \tTo end a function, returns a generator\n"
      ],
      "metadata": {
        "id": "uU8iieRDBazq"
      }
    },
    {
      "cell_type": "markdown",
      "source": [
        "# Operators are used to perform operations on variables and values.\n",
        "\n",
        "# In the example below, we use the + operator to add together two values.\n",
        "\n",
        "# Python divides the operators in the following groups:\n",
        "\n",
        "#     Arithmetic operators\n",
        "\n",
        "#     Assignment operators\n",
        "\n",
        "#     Comparison operators\n",
        "\n",
        "#     Logical operators\n",
        "\n",
        "#     Identity operators\n",
        "\n",
        "#     Membership operators\n",
        "\n",
        "#     Bitwise operators\n",
        "\n",
        "\n",
        "\n",
        "\n",
        "Arithemetic operators:\n",
        "\n",
        "\n",
        "+ \tAddition \tx + y\n",
        "\n",
        "- \tSubtraction \tx - y\n",
        "\n",
        "* \tMultiplication \tx * y\n",
        "\n",
        "/ \tDivision \tx / y\n",
        "\n",
        "% \tModulus \tx % y\n",
        "\n",
        "** \tExponentiation \tx ** y\n",
        "\n",
        "// \tFloor division \tx // y\n",
        "\n",
        "Assignment Operators:\n",
        "\n",
        "= --\tx = 5 --\tx = 5\n",
        "\n",
        "+= --\tx += 3 --\tx = x + 3\n",
        "\n",
        "-= --\tx -= 3 --\tx = x - 3\n",
        "\n",
        "*= --\tx *= 3 --\tx = x * 3\n",
        "\n",
        "/= --\tx /= 3 --\tx = x / 3\n",
        "\n",
        "%= --\tx %= 3 --\tx = x % 3\n",
        "\n",
        "//= --  x //= 3 --  x = x // 3\n",
        "\n",
        "**= --  x **= 3 --  x = x ** 3\n",
        "\n",
        "&= --\tx &= 3 --\tx = x & 3\n",
        "\n",
        "|= --\tx |= 3 --\tx = x | 3\n",
        "\n",
        "^= --\tx ^= 3 --\tx = x ^ 3\n",
        "\n",
        ">>= -- x >>= 3 --  x = x >> 3\n",
        "\n",
        "<<=  --x <<= 3 --  x = x << 3\n",
        "\n",
        "Comparison Operators:\n",
        "\n",
        "== \tEqual \tx == y\n",
        "\n",
        "!= \tNot equal \tx != y\n",
        "\n",
        "> \tGreater than \tx > y\n",
        "\n",
        "< \tLess than \tx < y\n",
        "\n",
        ">= \tGreater than or equal to \tx >= y\n",
        "\n",
        "<= \tLess than or equal to \tx <= y\n",
        "\n",
        "Logical Operators:\n",
        "\n",
        "and  \tReturns True if both statements are true \tx < 5 and  x < 10\n",
        "\n",
        "or  \tReturns True if one of the statements is true \tx < 5 or x < 4\n",
        "\n",
        "not \tReverse the result, returns False if the result is true \tnot(x < 5 and x \n",
        "< 10)\n",
        "\n",
        "Identity Operators:\n",
        "\n",
        "is  \tReturns True if both variables are the same object \tx is y\n",
        "\n",
        "is not \tReturns True if both variables are not the same object \tx is not y\n",
        "\n",
        "Membership Operators:\n",
        "\n",
        "in  \tReturns True if a sequence with the specified value is present in the \n",
        "\n",
        "object \tx in y\n",
        "\n",
        "not in \tReturns True if a sequence with the specified value is not present in \n",
        "\n",
        "the object \tx not in y\n",
        "\n",
        "Bitwise Operators:\n",
        "\n",
        "&  \tAND \tSets each bit to 1 if both bits are 1\n",
        "\n",
        "| \tOR \t    Sets each bit to 1 if one of two bits is 1\n",
        "\n",
        " ^ \tXOR \tSets each bit to 1 if only one of two bits is 1\n",
        "\n",
        "~  \tNOT \tInverts all the bits\n",
        "\n",
        "<< \tZero fill left shift    Shift left by pushing zeros in from the right and \n",
        "let the leftmost bits fall off\n",
        "\n",
        ">> \tSigned right shift  \tShift right by pushing copies of the leftmost bit in \n",
        "from the left, and let the rightmost bits fall off\n",
        "\n"
      ],
      "metadata": {
        "id": "SijaHuF3C9uT"
      }
    },
    {
      "cell_type": "code",
      "source": [
        "\n"
      ],
      "metadata": {
        "id": "rcNX8mgd1GIo"
      },
      "execution_count": null,
      "outputs": []
    },
    {
      "cell_type": "code",
      "source": [
        ""
      ],
      "metadata": {
        "id": "DK6gslEs1GGG"
      },
      "execution_count": null,
      "outputs": []
    },
    {
      "cell_type": "code",
      "source": [
        ""
      ],
      "metadata": {
        "id": "8jIudK6N1GEN"
      },
      "execution_count": null,
      "outputs": []
    },
    {
      "cell_type": "code",
      "source": [
        ""
      ],
      "metadata": {
        "id": "kBxNQOTJ1F7F"
      },
      "execution_count": null,
      "outputs": []
    },
    {
      "cell_type": "code",
      "source": [
        ""
      ],
      "metadata": {
        "id": "i5mYgdp71F3i"
      },
      "execution_count": null,
      "outputs": []
    },
    {
      "cell_type": "code",
      "source": [
        ""
      ],
      "metadata": {
        "id": "v_xbAkes1F1O"
      },
      "execution_count": null,
      "outputs": []
    },
    {
      "cell_type": "code",
      "source": [
        ""
      ],
      "metadata": {
        "id": "2cpO64FB1Fy9"
      },
      "execution_count": null,
      "outputs": []
    },
    {
      "cell_type": "code",
      "source": [
        ""
      ],
      "metadata": {
        "id": "R5CsSIyp1Fwb"
      },
      "execution_count": null,
      "outputs": []
    },
    {
      "cell_type": "code",
      "source": [
        ""
      ],
      "metadata": {
        "id": "aqxkFcJl1FuI"
      },
      "execution_count": null,
      "outputs": []
    },
    {
      "cell_type": "code",
      "source": [
        ""
      ],
      "metadata": {
        "id": "RVhrmlts1Fr5"
      },
      "execution_count": null,
      "outputs": []
    },
    {
      "cell_type": "code",
      "source": [
        ""
      ],
      "metadata": {
        "id": "AUKpzaHJ1FlN"
      },
      "execution_count": null,
      "outputs": []
    },
    {
      "cell_type": "code",
      "source": [
        ""
      ],
      "metadata": {
        "id": "nl293rt51FXt"
      },
      "execution_count": null,
      "outputs": []
    },
    {
      "cell_type": "code",
      "source": [
        "num = []\n",
        "num.append(2)\n",
        "num.append(10.5)\n",
        "num.append(\"vamsi\")\n",
        "print (num)"
      ],
      "metadata": {
        "colab": {
          "base_uri": "https://localhost:8080/"
        },
        "id": "a5sgiT1uF74g",
        "outputId": "562704a5-6c77-4c44-e890-29c1a195999e"
      },
      "execution_count": null,
      "outputs": [
        {
          "output_type": "stream",
          "name": "stdout",
          "text": [
            "[2, 10.5, 'vamsi']\n"
          ]
        }
      ]
    },
    {
      "cell_type": "code",
      "source": [
        "# Python program to illustrate\n",
        "# functions\n",
        "def hello():\n",
        "\tprint(\"hello\")\n",
        "\tprint(\"hello again\")\n",
        "hello()\n",
        "\n",
        "# calling function\n",
        "hello()\t\t\t\n"
      ],
      "metadata": {
        "colab": {
          "base_uri": "https://localhost:8080/"
        },
        "id": "_g30d3DtGLuz",
        "outputId": "0cfcadfd-335b-4efe-f3fc-c4dd49dd907e"
      },
      "execution_count": null,
      "outputs": [
        {
          "output_type": "stream",
          "name": "stdout",
          "text": [
            "hello\n",
            "hello again\n",
            "hello\n",
            "hello again\n"
          ]
        }
      ]
    },
    {
      "cell_type": "code",
      "source": [
        "# Python code to demonstrate working of iskeyword()\n",
        "\n",
        "# importing \"keyword\" for keyword operations\n",
        "import keyword\n",
        "\n",
        "# printing all keywords at once using \"kwlist()\"\n",
        "print(\"The list of keywords is : \")\n",
        "print(keyword.kwlist)\n"
      ],
      "metadata": {
        "colab": {
          "base_uri": "https://localhost:8080/"
        },
        "id": "6bkJRv4PGoJy",
        "outputId": "a8ab7420-1da3-4843-8454-9b446fc56307"
      },
      "execution_count": null,
      "outputs": [
        {
          "output_type": "stream",
          "name": "stdout",
          "text": [
            "The list of keywords is : \n",
            "['False', 'None', 'True', 'and', 'as', 'assert', 'async', 'await', 'break', 'class', 'continue', 'def', 'del', 'elif', 'else', 'except', 'finally', 'for', 'from', 'global', 'if', 'import', 'in', 'is', 'lambda', 'nonlocal', 'not', 'or', 'pass', 'raise', 'return', 'try', 'while', 'with', 'yield']\n"
          ]
        }
      ]
    },
    {
      "cell_type": "code",
      "source": [
        "# Using for loop\n",
        "for i in range(10):\n",
        "\n",
        "\tprint(i, end = \" \")\n",
        "\t\n",
        "\t# break the loop as soon it sees 6\n",
        "\tif i == 10:\n",
        "\t\tbreak\n",
        "\t\n",
        "print()\n",
        "\t\n",
        "# loop from 1 to 10\n",
        "'''i = 0\n",
        "while i <10:\n",
        "\t\n",
        "\t# If i is equals to 6,\n",
        "\t# continue to next iteration\n",
        "\t# without printing\n",
        "\tif i == 6:\n",
        "\t\ti+= 1\n",
        "\t\tcontinue\n",
        "\telse:\n",
        "\t\t# otherwise print the value\n",
        "\t\t# of i\n",
        "\t\tprint(i, end = \" \")\n",
        "\t\t\n",
        "\ti += 1'''\n"
      ],
      "metadata": {
        "colab": {
          "base_uri": "https://localhost:8080/",
          "height": 70
        },
        "id": "ObTPfFw5IXho",
        "outputId": "81cbd8e1-455f-42ff-b9f5-23b8698f4fdd"
      },
      "execution_count": null,
      "outputs": [
        {
          "output_type": "stream",
          "name": "stdout",
          "text": [
            "0 1 2 3 4 5 6 7 8 9 \n"
          ]
        },
        {
          "output_type": "execute_result",
          "data": {
            "text/plain": [
              "'i = 0\\nwhile i <10:\\n\\t\\n\\t# If i is equals to 6,\\n\\t# continue to next iteration\\n\\t# without printing\\n\\tif i == 6:\\n\\t\\ti+= 1\\n\\t\\tcontinue\\n\\telse:\\n\\t\\t# otherwise print the value\\n\\t\\t# of i\\n\\t\\tprint(i, end = \" \")\\n\\t\\t\\n\\ti += 1'"
            ],
            "application/vnd.google.colaboratory.intrinsic+json": {
              "type": "string"
            }
          },
          "metadata": {},
          "execution_count": 11
        }
      ]
    },
    {
      "cell_type": "code",
      "source": [
        "# var1 is in the global namespace\n",
        "var1 = 5\n",
        "def some_func():\n",
        "\n",
        "\t# var2 is in the local namespace\n",
        "\tvar2 = 6\n",
        "\tdef some_inner_func():\n",
        "\n",
        "\t\t# var3 is in the nested local\n",
        "\t\t# namespace\n",
        "\t\tvar3 = 7\n"
      ],
      "metadata": {
        "id": "FXjEXr36JwuP"
      },
      "execution_count": null,
      "outputs": []
    },
    {
      "cell_type": "code",
      "source": [
        "# Python program processing\n",
        "# global variable\n",
        "\n",
        "count = 5\n",
        "def some_method():\n",
        "\tglobal count\n",
        "\tcount = count + 1\n",
        "\tprint(count)\n",
        "some_method()\n"
      ],
      "metadata": {
        "colab": {
          "base_uri": "https://localhost:8080/"
        },
        "id": "UMiTbqTdXHjM",
        "outputId": "7a38cdeb-a807-4d2e-9775-d14598d312bc"
      },
      "execution_count": null,
      "outputs": [
        {
          "output_type": "stream",
          "name": "stdout",
          "text": [
            "6\n"
          ]
        }
      ]
    },
    {
      "cell_type": "code",
      "source": [
        ""
      ],
      "metadata": {
        "id": "oQuMVVovXVjf"
      },
      "execution_count": null,
      "outputs": []
    }
  ]
}